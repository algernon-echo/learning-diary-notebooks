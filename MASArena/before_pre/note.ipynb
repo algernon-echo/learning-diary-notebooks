{
 "cells": [
  {
   "cell_type": "markdown",
   "metadata": {},
   "source": [
    "`curl`: client url (internet)   \n",
    "\n",
    "`homebrew`: 系统包管理器 (downloading system kits like Python, Node.js, pipx and git)\n",
    "- 安装在MacOS系统环境中，不在conda的任何环境内（包括base）\n",
    "\n",
    "`pipx`: CLI工具隔离器，专门安装python CLI工具，把这些工具放在一个隔离的地方\n",
    "\n",
    "`uv`: 一个用来代替pip的更快更强的工具\n",
    "\n",
    "`pyproject.toml`: Tom's Obvious, Minimal Language. 用于配置文件。\n",
    "\n",
    "用uv+pyprpject.toml的组合拳不要太方便啊\n",
    "\n",
    "`mkdocs.yml`用于自动部署网页\n",
    "\n",
    "`pkgutil`: package utility. 用于package和module的管理    \n",
    "\n",
    "`importlib`: 用来import包\n",
    "\n",
    "`MCP`: Multi-Agent Communication Protocol   \n",
    "**Multi Context Protocol** is a specific kind of Multi\n",
    "\n",
    "`uuid`: 随机数生成（uuid4）\n",
    "\n",
    "`kwargs`: keyword arguments\n",
    "\n",
    "**Top-Level Code**: 顶层代码。执行类定义，函数定义，以及没有缩进的代码。不执行类和函数内部的代码。\n",
    "\n",
    "`mbpp`: mostly basic python programming\n",
    "\n",
    "`bbh`: big-bench hard (超难问题)\n",
    "\n",
    "`gaia`: general artificial intelligence assessment\n",
    "\n",
    "`GSM8K`: Grade School Math 8K (小学数学推理题)\n",
    "\n",
    "`DROP`: Discrete Reasoning Over Paragraphs （应用题：通过文字提取信息，再进行离散推理，比如数学、排序等等）\n"
   ]
  },
  {
   "cell_type": "markdown",
   "metadata": {},
   "source": [
    "`main.py`是一切的入口。从这里开始。\n",
    "\n"
   ]
  },
  {
   "cell_type": "markdown",
   "metadata": {},
   "source": [
    "### 包的结构知识\n",
    "\n",
    "把暴露的module全部import。如果希望`from mas_arena.tools import *`时导入就写进`__all__`里面。如果不在`__all__`里面，就需要显式导入。\n",
    "\n",
    "成为包的条件：加`__init__.py`文件   \n",
    "包间互导：在同一个根目录下  \n",
    "包中导第三方包：需要在环境中同时也import第三方包  \n",
    "\n",
    "```css\n",
    "my_project/\n",
    "├── pyproject.toml    # 声明项目名和依赖（推荐）\n",
    "├── requirements.txt  # 可选，提供给用户快速装依赖\n",
    "│\n",
    "├── my_package_1/\n",
    "│   ├── __init__.py\n",
    "│   └── a.py\n",
    "│\n",
    "├── my_package_2/\n",
    "│   ├── __init__.py\n",
    "│   └── b.py  ← 可 import my_package_1.a\n",
    "```"
   ]
  },
  {
   "cell_type": "markdown",
   "metadata": {},
   "source": [
    "## logging\n",
    "\n",
    "每一个`logging`的管理范围是一个“进程”，每个进程内默认使用第一个激活的logging，多个进程可以有不同的logging_config\n",
    "```python\n",
    " # Set up logging\n",
    "    os.makedirs(self.log_path, exist_ok=True)\n",
    "    logging.basicConfig(\n",
    "        level=logging.INFO,      # 设置日志级别为 INFO，表示记录所有 INFO 及以上级别（如 WARNING, ERROR）的日志。\n",
    "        format=\"%(asctime)s [%(levelname)s] %(message)s\",\n",
    "        handlers=[\n",
    "            logging.FileHandler(f\"{self.log_path}/{name}_eval.log\"),\n",
    "            logging.StreamHandler()\n",
    "        ]\n",
    "    )    # 这是一个单次生效的函数，为logging模块提供全局配置\n",
    "    self.logger = logging.getLogger(f\"{name}_evaluator\")    #创建实例\n",
    "```"
   ]
  },
  {
   "cell_type": "markdown",
   "metadata": {},
   "source": [
    "| 名称    | 用途         |\n",
    "| ----- | ---------- |\n",
    "| `foo` | 占位函数、变量名   |\n",
    "| `bar` | 第二个示例或参数名  |\n",
    "| `baz` | 第三个，继续类推   |\n",
    "| `qux` | 第四个，极客黑话专用 |\n"
   ]
  },
  {
   "cell_type": "markdown",
   "metadata": {},
   "source": [
    "3. 单轮优化细节（optimize_graph 方法） \n",
    "- 第一轮：加载初始 graph，并进行评估。 \n",
    "- 后续轮次： \n",
    "1. 采样：从历史最优轮次中采样一个 round 作为基础。 \n",
    "2. 读取该轮的 graph、prompt、经验（experience）、操作符描述、日志等。 \n",
    "3. 构造优化 prompt，输入给 LLM。 \n",
    "4. LLM 返回优化建议（modification）、新 graph 及 prompt，格式化并校验。 \n",
    "5. 检查建议的 modification 是否合理（通过经验工具类）。 \n",
    "6. 若不合理则重新生成，直到满足条件。 \n",
    "7. 保存新 graph，并对其进行评估，记录分数和经验。\n",
    "---\n",
    "### 4. 评估与收敛 \n",
    "- 每轮优化后，都会对新 graph 进行评估（evaluate_graph），得到分数。 \n",
    "- 通过 ConvergenceUtils 检查分数是否收敛（如 top3 平均分波动很小），若收敛则提前终止优化。\n",
    "---\n",
    "### 5. 关键点总结 \n",
    "- 优化的核心是：用 LLM 基于历史最优 graph、经验、操作符描述等，生成更优的 graph。 \n",
    "- 每轮都自动评估新 graph 的表现，并用经验机制防止无效/重复优化。 \n",
    "- 支持异常处理、重试、收敛检测等机制，保证优化流程的健壮性。\n",
    "---\n",
    "如果你想了解某个具体环节（如 prompt 构造、经验机制、收敛判据等）可以进一步说明！"
   ]
  }
 ],
 "metadata": {
  "language_info": {
   "name": "python"
  }
 },
 "nbformat": 4,
 "nbformat_minor": 2
}
