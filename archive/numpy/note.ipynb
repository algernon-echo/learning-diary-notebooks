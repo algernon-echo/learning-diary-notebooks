{
 "cells": [
  {
   "cell_type": "markdown",
   "metadata": {},
   "source": [
    "# Numpy\n",
    "vector 矢量，matrix 矩阵，tensor 张量  \n",
    "numpy中，数组看作不同维度的tensor。  numpy数组：ndarray (n-dimentional array)\n",
    "\n",
    "`np.array(python_array)`: transform a python array to numpy array, in order to do numpy calculations"
   ]
  },
  {
   "cell_type": "code",
   "execution_count": null,
   "metadata": {},
   "outputs": [],
   "source": [
    "import numpy as np\n",
    "\n",
    "# 1D\n",
    "vector = np.array([1, 2, 3])    # 一个向量，三个分量。\n",
    "print(vector.ndim, \"   \", vector.shape)   # ndim: n-dimentions\n",
    "\n",
    "# 2d\n",
    "matrix = np.array([[1, 2, 6], [3, 4, 5]])  \n",
    "print(matrix.shape)  # (row, column)\n",
    "\n",
    "# 3d\n",
    "tensor = np.array([\n",
    "    [[1, 2, 3, 4], [5, 6, 7, 8], [9, 10, 11, 12]],  \n",
    "    [[13, 14, 15, 16], [17, 18, 19, 20], [21, 22, 23, 24]]  \n",
    "])\n",
    "\n",
    "print(\"shape of tensor:\", tensor.shape)  # 输出 (2, 3, 4)\n",
    "print(\"content of tensor:\\n\", tensor)\n"
   ]
  },
  {
   "cell_type": "markdown",
   "metadata": {},
   "source": [
    "`linalg`: linear algebra. Provide linear algebra calculations.    \n",
    "`norm`: calculate norms. Norm calculaion is part of the linear algebra calculations."
   ]
  },
  {
   "cell_type": "code",
   "execution_count": null,
   "metadata": {},
   "outputs": [],
   "source": [
    "#dot = np.dot(v1,v2)  #点乘\n",
    "vec = np.array([3, 4])\n",
    "norm = np.linalg.norm(vec)  \n",
    "print(norm)  # 输出 5.0 （因为 √(3² + 4²) = 5）"
   ]
  }
 ],
 "metadata": {
  "kernelspec": {
   "display_name": "singleneuron",
   "language": "python",
   "name": "python3"
  },
  "language_info": {
   "codemirror_mode": {
    "name": "ipython",
    "version": 3
   },
   "file_extension": ".py",
   "mimetype": "text/x-python",
   "name": "python",
   "nbconvert_exporter": "python",
   "pygments_lexer": "ipython3",
   "version": "3.13.5"
  }
 },
 "nbformat": 4,
 "nbformat_minor": 2
}
