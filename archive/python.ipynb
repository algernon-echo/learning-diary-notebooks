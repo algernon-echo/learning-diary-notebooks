{
 "cells": [
  {
   "cell_type": "markdown",
   "metadata": {},
   "source": [
    "# Python "
   ]
  },
  {
   "cell_type": "markdown",
   "metadata": {},
   "source": [
    "Practice of tuple, function lambda and array sort."
   ]
  },
  {
   "cell_type": "code",
   "execution_count": 1,
   "metadata": {},
   "outputs": [
    {
     "name": "stdout",
     "output_type": "stream",
     "text": [
      "[(0, 4), (1, 2)]\n"
     ]
    }
   ],
   "source": [
    "# 以tuple（元组，（index, value））中的第二个元素（key）排倒序（reverse=True）\n",
    "array = [(1,2), (0,4)]\n",
    "array.sort(key=lambda x: x[1], reverse=True)\n",
    "print(array)"
   ]
  },
  {
   "cell_type": "code",
   "execution_count": null,
   "metadata": {},
   "outputs": [],
   "source": [
    "lambda <origin>: <result> #only allow simple logic"
   ]
  },
  {
   "cell_type": "markdown",
   "metadata": {},
   "source": [
    "`with`: automatic resource manager. Close the resource manager automatically after use."
   ]
  },
  {
   "cell_type": "code",
   "execution_count": null,
   "metadata": {},
   "outputs": [],
   "source": [
    "import json  # classic use: open file\n",
    "\n",
    "with open('file_path') as file:\n",
    "    data = json.load(file)"
   ]
  },
  {
   "cell_type": "markdown",
   "metadata": {},
   "source": [
    "`\"\\n\".join(iterable)`: iterable elements connected by `\\n`"
   ]
  },
  {
   "cell_type": "code",
   "execution_count": null,
   "metadata": {},
   "outputs": [],
   "source": [
    "user_prompt = \"\\n\".join([f\"Context {i + 1}:\\n{chunk}\\n=====================================\\n\" for i, chunk in enumerate(top_chunks)])\n",
    "user_prompt = f\"{user_prompt}\\nQuestion: {query}\" #究极字符串的诞生"
   ]
  },
  {
   "cell_type": "markdown",
   "metadata": {},
   "source": [
    "---\n",
    "`enumerate`的用法"
   ]
  },
  {
   "cell_type": "code",
   "execution_count": null,
   "metadata": {},
   "outputs": [],
   "source": [
    "names = [\"Alice\", \"Bob\", \"Charlie\"]\n",
    "\n",
    "for i, name in enumerate(names):\n",
    "    print(f\"{i}: {name}\")"
   ]
  },
  {
   "cell_type": "markdown",
   "metadata": {},
   "source": [
    "等价于"
   ]
  },
  {
   "cell_type": "code",
   "execution_count": null,
   "metadata": {},
   "outputs": [],
   "source": [
    "for i in range(len(names)):\n",
    "    print(f\"{i}: {names[i]}\")"
   ]
  },
  {
   "cell_type": "markdown",
   "metadata": {},
   "source": [
    "---\n",
    "循环小技巧+1。生成一个列表，列表里有agents_num个[initial_message]。"
   ]
  },
  {
   "cell_type": "code",
   "execution_count": null,
   "metadata": {},
   "outputs": [],
   "source": [
    "agent_contexts = [[initial_message] for _ in range(self.agents_num)]"
   ]
  },
  {
   "cell_type": "markdown",
   "metadata": {},
   "source": [
    "---\n",
    "`abc`: abstract bass class, 抽象基类（太抽象了）"
   ]
  },
  {
   "cell_type": "code",
   "execution_count": null,
   "metadata": {},
   "outputs": [],
   "source": [
    "class Punk(abc.ABC):\n",
    "    def curse(self):\n",
    "        pass  #子类必须要实现，每一个punk乐队都必须要curse"
   ]
  },
  {
   "cell_type": "markdown",
   "metadata": {},
   "source": [
    "---\n",
    "文件顶上加这一句话\n",
    "```python\n",
    "#!/usr/bin/env python3\n",
    "```\n",
    "再运行 (change mode, `+x`: execute)\n",
    "```bash\n",
    "chmod +x main.py\n",
    "```\n",
    "运行时就只要写\n",
    "```bash\n",
    "./main.py\n",
    "```\n",
    "而不用\n",
    "```bash \n",
    "python main.py\n",
    "```"
   ]
  },
  {
   "cell_type": "markdown",
   "metadata": {},
   "source": [
    "----\n",
    "`@classmethod`: class method. Do NOT need an instance. E.g., `ClassName.classmethod()`\n",
    "\n",
    "`@abstractmethod`: must be implemented (如果没有写`@abstractmethod`，就不是强制实现)"
   ]
  },
  {
   "cell_type": "markdown",
   "metadata": {},
   "source": [
    "-------------------\n",
    "`TypeVar`: Type Variable."
   ]
  },
  {
   "cell_type": "code",
   "execution_count": null,
   "metadata": {},
   "outputs": [],
   "source": [
    "from typing import Generic, TypeVar\n",
    "\n",
    "T = TypeVar('T')\n",
    "\n",
    "class Box(Generic[T]):\n",
    "    def __init__(self, content: T):\n",
    "        self.content = content\n",
    "\n",
    "    def get(self) -> T:\n",
    "        return self.content"
   ]
  }
 ],
 "metadata": {
  "kernelspec": {
   "display_name": "singleneuron",
   "language": "python",
   "name": "python3"
  },
  "language_info": {
   "codemirror_mode": {
    "name": "ipython",
    "version": 3
   },
   "file_extension": ".py",
   "mimetype": "text/x-python",
   "name": "python",
   "nbconvert_exporter": "python",
   "pygments_lexer": "ipython3",
   "version": "3.13.5"
  }
 },
 "nbformat": 4,
 "nbformat_minor": 2
}
