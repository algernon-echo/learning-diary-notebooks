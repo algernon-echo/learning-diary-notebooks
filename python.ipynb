{
 "cells": [
  {
   "cell_type": "markdown",
   "metadata": {},
   "source": [
    "# Python "
   ]
  },
  {
   "cell_type": "markdown",
   "metadata": {},
   "source": [
    "Practice of tuple, function lambda and array sort."
   ]
  },
  {
   "cell_type": "code",
   "execution_count": 1,
   "metadata": {},
   "outputs": [
    {
     "name": "stdout",
     "output_type": "stream",
     "text": [
      "[(0, 4), (1, 2)]\n"
     ]
    }
   ],
   "source": [
    "# 以tuple（元组，（index, value））中的第二个元素（key）排倒序（reverse=True）\n",
    "array = [(1,2), (0,4)]\n",
    "array.sort(key=lambda x: x[1], reverse=True)\n",
    "print(array)"
   ]
  },
  {
   "cell_type": "code",
   "execution_count": null,
   "metadata": {},
   "outputs": [],
   "source": [
    "lambda <origin>: <result> #only allow simple logic"
   ]
  },
  {
   "cell_type": "markdown",
   "metadata": {},
   "source": [
    "`with`: automatic resource manager. Close the resource manager automatically after use."
   ]
  },
  {
   "cell_type": "code",
   "execution_count": null,
   "metadata": {},
   "outputs": [],
   "source": [
    "import json  # classic use: open file\n",
    "\n",
    "with open('file_path') as file:\n",
    "    data = json.load(file)"
   ]
  },
  {
   "cell_type": "markdown",
   "metadata": {},
   "source": [
    "`\"\\n\".join(iterable)`: iterable elements connected by `\\n`"
   ]
  },
  {
   "cell_type": "code",
   "execution_count": null,
   "metadata": {},
   "outputs": [],
   "source": [
    "user_prompt = \"\\n\".join([f\"Context {i + 1}:\\n{chunk}\\n=====================================\\n\" for i, chunk in enumerate(top_chunks)])\n",
    "user_prompt = f\"{user_prompt}\\nQuestion: {query}\" #究极字符串的诞生"
   ]
  }
 ],
 "metadata": {
  "kernelspec": {
   "display_name": "singleneuron",
   "language": "python",
   "name": "python3"
  },
  "language_info": {
   "codemirror_mode": {
    "name": "ipython",
    "version": 3
   },
   "file_extension": ".py",
   "mimetype": "text/x-python",
   "name": "python",
   "nbconvert_exporter": "python",
   "pygments_lexer": "ipython3",
   "version": "3.13.5"
  }
 },
 "nbformat": 4,
 "nbformat_minor": 2
}
